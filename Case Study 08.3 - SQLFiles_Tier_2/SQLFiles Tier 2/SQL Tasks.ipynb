{
 "cells": [
  {
   "cell_type": "code",
   "execution_count": 1,
   "metadata": {},
   "outputs": [
    {
     "name": "stdout",
     "output_type": "stream",
     "text": [
      "2.6.0\n",
      "2. Query all tasks\n",
      "(0, 'Tennis Court 1', 5, 25, 10000, 200)\n",
      "(1, 'Tennis Court 2', 5, 25, 8000, 200)\n",
      "(2, 'Badminton Court', 0, 15.5, 4000, 50)\n",
      "(3, 'Table Tennis', 0, 5, 320, 10)\n",
      "(4, 'Massage Room 1', 9.9, 80, 4000, 3000)\n",
      "(5, 'Massage Room 2', 9.9, 80, 4000, 3000)\n",
      "(6, 'Squash Court', 3.5, 17.5, 5000, 80)\n",
      "(7, 'Snooker Table', 0, 5, 450, 15)\n",
      "(8, 'Pool Table', 0, 5, 400, 15)\n"
     ]
    }
   ],
   "source": [
    "import sqlite3\n",
    "from sqlite3 import Error\n",
    "\n",
    " \n",
    "def create_connection(db_file):\n",
    "    \"\"\" create a database connection to the SQLite database\n",
    "        specified by the db_file\n",
    "    :param db_file: database file\n",
    "    :return: Connection object or None\n",
    "    \"\"\"\n",
    "    conn = None\n",
    "    try:\n",
    "        conn = sqlite3.connect(db_file)\n",
    "        print(sqlite3.version)\n",
    "    except Error as e:\n",
    "        print(e)\n",
    " \n",
    "    return conn\n",
    "\n",
    " \n",
    "def select_all_tasks(conn):\n",
    "    \"\"\"\n",
    "    Query all rows in the tasks table\n",
    "    :param conn: the Connection object\n",
    "    :return:\n",
    "    \"\"\"\n",
    "    cur = conn.cursor()\n",
    "    \n",
    "    query1 = \"\"\"\n",
    "        SELECT *\n",
    "        FROM FACILITIES\n",
    "        \"\"\"\n",
    "    cur.execute(query1)\n",
    " \n",
    "    rows = cur.fetchall()\n",
    " \n",
    "    for row in rows:\n",
    "        print(row)\n",
    "\n",
    "\n",
    "def main():\n",
    "    database = \"sqlite_db_pythonsqlite.db\"\n",
    " \n",
    "    # create a database connection\n",
    "    conn = create_connection(database)\n",
    "    with conn: \n",
    "        print(\"2. Query all tasks\")\n",
    "        select_all_tasks(conn)\n",
    " \n",
    " \n",
    "if __name__ == '__main__':\n",
    "    main()"
   ]
  },
  {
   "cell_type": "markdown",
   "metadata": {},
   "source": [
    "Q10: Produce a list of facilities with a total revenue less than 1000.\n",
    "The output of facility name and total revenue, sorted by revenue. Remember\n",
    "that there's a different cost for guests and members!"
   ]
  },
  {
   "cell_type": "code",
   "execution_count": 2,
   "metadata": {},
   "outputs": [
    {
     "name": "stdout",
     "output_type": "stream",
     "text": [
      "<class 'pandas.core.frame.DataFrame'>\n",
      "RangeIndex: 31 entries, 0 to 30\n",
      "Data columns (total 8 columns):\n",
      " #   Column         Non-Null Count  Dtype \n",
      "---  ------         --------------  ----- \n",
      " 0   memid          31 non-null     int64 \n",
      " 1   surname        31 non-null     object\n",
      " 2   firstname      31 non-null     object\n",
      " 3   address        31 non-null     object\n",
      " 4   zipcode        31 non-null     int64 \n",
      " 5   telephone      31 non-null     object\n",
      " 6   recommendedby  31 non-null     object\n",
      " 7   joindate       31 non-null     object\n",
      "dtypes: int64(2), object(6)\n",
      "memory usage: 2.1+ KB\n"
     ]
    }
   ],
   "source": [
    "from sqlalchemy import create_engine\n",
    "import pandas as pd\n",
    "\n",
    "engine = create_engine('sqlite:///sqlite_db_pythonsqlite.db')\n",
    "df = pd.read_sql_query('SELECT * FROM Members', engine)\n",
    "df.info()"
   ]
  },
  {
   "cell_type": "code",
   "execution_count": 9,
   "metadata": {},
   "outputs": [
    {
     "name": "stdout",
     "output_type": "stream",
     "text": [
      "            name  revenue\n",
      "0   Table Tennis      180\n",
      "1  Snooker Table      240\n",
      "2     Pool Table      270\n"
     ]
    }
   ],
   "source": [
    "# Q10\n",
    "q10_query = '''SELECT f.name, \n",
    "    SUM(CASE WHEN b.memid = 0 THEN slots*f.guestcost\n",
    "\tELSE slots*f.membercost END) AS revenue\n",
    "FROM Bookings AS b\n",
    "INNER JOIN Facilities AS f\n",
    "ON b.facid = f.facid\n",
    "GROUP BY b.facid\n",
    "HAVING revenue <1000\n",
    "ORDER BY revenue'''\n",
    "q10 = pd.read_sql_query(q10_query, engine)\n",
    "\n",
    "print(q10)"
   ]
  },
  {
   "cell_type": "markdown",
   "metadata": {},
   "source": [
    "Q11: Produce a report of members and who recommended them in alphabetic surname,firstname order"
   ]
  },
  {
   "cell_type": "code",
   "execution_count": 14,
   "metadata": {},
   "outputs": [
    {
     "name": "stdout",
     "output_type": "stream",
     "text": [
      "    firstname            surname refered_by_FN refered_by_LN\n",
      "0    Florence              Bader        Ponder      Stibbons\n",
      "1        Anne              Baker        Ponder      Stibbons\n",
      "2     Timothy              Baker        Jemima       Farrell\n",
      "3         Tim             Boothe           Tim        Rownam\n",
      "4      Gerald            Butters        Darren         Smith\n",
      "5        Joan             Coplin       Timothy         Baker\n",
      "6       Erica            Crumpet         Tracy         Smith\n",
      "7       Nancy               Dare        Janice      Joplette\n",
      "8      Jemima            Farrell          None          None\n",
      "9       David            Farrell          None          None\n",
      "10    Matthew            Genting        Gerald       Butters\n",
      "11       John               Hunt     Millicent       Purview\n",
      "12      David              Jones        Janice      Joplette\n",
      "13    Douglas              Jones         David         Jones\n",
      "14     Janice           Joplette        Darren         Smith\n",
      "15       Anna          Mackenzie        Darren         Smith\n",
      "16    Charles               Owen        Darren         Smith\n",
      "17      David             Pinker        Jemima       Farrell\n",
      "18  Millicent            Purview         Tracy         Smith\n",
      "19        Tim             Rownam          None          None\n",
      "20  Henrietta             Rumney       Matthew       Genting\n",
      "21  Ramnaresh             Sarwin      Florence         Bader\n",
      "22     Darren              Smith          None          None\n",
      "23      Tracy              Smith          None          None\n",
      "24       Jack              Smith        Darren         Smith\n",
      "25     Darren              Smith          None          None\n",
      "26     Ponder           Stibbons        Burton         Tracy\n",
      "27     Burton              Tracy          None          None\n",
      "28   Hyacinth         Tupperware          None          None\n",
      "29      Henry  Worthington-Smyth         Tracy         Smith\n"
     ]
    }
   ],
   "source": [
    "q11_query = '''SELECT main.firstname, main.surname,\n",
    "\taux.firstname AS refered_by_FN, aux.surname AS refered_by_LN\n",
    "FROM \n",
    "\t(SELECT * FROM Members WHERE memid != 0)\n",
    "        AS main\n",
    "LEFT JOIN Members AS aux\n",
    "ON main.recommendedby = aux.memid\n",
    "ORDER BY main.surname'''\n",
    "q11 = pd.read_sql_query(q11_query, engine)\n",
    "print(q11)\n"
   ]
  },
  {
   "cell_type": "markdown",
   "metadata": {},
   "source": [
    "Q12: Find the facilities with their usage by member, but not guests"
   ]
  },
  {
   "cell_type": "code",
   "execution_count": 15,
   "metadata": {},
   "outputs": [
    {
     "name": "stdout",
     "output_type": "stream",
     "text": [
      "               name  firstname            surname  tot_slots\n",
      "0    Tennis Court 1      Tracy              Smith         93\n",
      "1    Tennis Court 1        Tim             Rownam         18\n",
      "2    Tennis Court 1     Janice           Joplette         57\n",
      "3    Tennis Court 1     Gerald            Butters        171\n",
      "4    Tennis Court 1     Burton              Tracy         93\n",
      "..              ...        ...                ...        ...\n",
      "197      Pool Table  Henrietta             Rumney          3\n",
      "198      Pool Table      David            Farrell         25\n",
      "199      Pool Table      Henry  Worthington-Smyth         37\n",
      "200      Pool Table  Millicent            Purview          5\n",
      "201      Pool Table   Hyacinth         Tupperware          9\n",
      "\n",
      "[202 rows x 4 columns]\n"
     ]
    }
   ],
   "source": [
    "q12_query = '''SELECT f.name, m.firstname, m.surname, SUM(b.slots) as tot_slots\n",
    "FROM Bookings AS b\n",
    "\n",
    "LEFT JOIN Members AS m\n",
    "ON m.memid = b.memid\n",
    "LEFT JOIN Facilities AS f\n",
    "ON f.facid = b.facid\n",
    "WHERE b.memid != 0\n",
    "GROUP BY b.facid, b.memid'''\n",
    "q12 = pd.read_sql_query(q12_query, engine)\n",
    "print(q12)"
   ]
  },
  {
   "cell_type": "markdown",
   "metadata": {},
   "source": [
    "Q13: Find the facilities usage by month, but not guests"
   ]
  },
  {
   "cell_type": "code",
   "execution_count": 28,
   "metadata": {},
   "outputs": [
    {
     "name": "stdout",
     "output_type": "stream",
     "text": [
      "               name month  tot_slots\n",
      "0   Badminton Court    07        165\n",
      "1   Badminton Court    08        414\n",
      "2   Badminton Court    09        507\n",
      "3    Massage Room 1    07        166\n",
      "4    Massage Room 1    08        316\n",
      "5    Massage Room 1    09        402\n",
      "6    Massage Room 2    07          8\n",
      "7    Massage Room 2    08         18\n",
      "8    Massage Room 2    09         28\n",
      "9        Pool Table    07        110\n",
      "10       Pool Table    08        303\n",
      "11       Pool Table    09        443\n",
      "12    Snooker Table    07        140\n",
      "13    Snooker Table    08        316\n",
      "14    Snooker Table    09        404\n",
      "15     Squash Court    07         50\n",
      "16     Squash Court    08        184\n",
      "17     Squash Court    09        184\n",
      "18     Table Tennis    07         98\n",
      "19     Table Tennis    08        296\n",
      "20     Table Tennis    09        400\n",
      "21   Tennis Court 1    07        201\n",
      "22   Tennis Court 1    08        339\n",
      "23   Tennis Court 1    09        417\n",
      "24   Tennis Court 2    07        123\n",
      "25   Tennis Court 2    08        345\n",
      "26   Tennis Court 2    09        414\n"
     ]
    }
   ],
   "source": [
    "q13_query = '''SELECT f.name,\n",
    "\tstrftime('%m',starttime) AS month,\n",
    "\tSUM(b.slots) as tot_slots\n",
    "FROM Bookings AS b\n",
    "LEFT JOIN Facilities AS f\n",
    "ON f.facid = b.facid\n",
    "WHERE b.memid != 0\n",
    "GROUP BY b.facid, month\n",
    "ORDER BY name, month;'''\n",
    "q13 = pd.read_sql_query(q13_query, engine)\n",
    "print(q13)"
   ]
  },
  {
   "cell_type": "code",
   "execution_count": null,
   "metadata": {},
   "outputs": [],
   "source": []
  }
 ],
 "metadata": {
  "kernelspec": {
   "display_name": "Python 3",
   "language": "python",
   "name": "python3"
  },
  "language_info": {
   "codemirror_mode": {
    "name": "ipython",
    "version": 3
   },
   "file_extension": ".py",
   "mimetype": "text/x-python",
   "name": "python",
   "nbconvert_exporter": "python",
   "pygments_lexer": "ipython3",
   "version": "3.8.3"
  }
 },
 "nbformat": 4,
 "nbformat_minor": 4
}

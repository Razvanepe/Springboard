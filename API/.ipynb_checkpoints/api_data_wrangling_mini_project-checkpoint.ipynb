{
 "cells": [
  {
   "cell_type": "markdown",
   "metadata": {},
   "source": [
    "This exercise will require you to pull some data from the Qunadl API. Qaundl is currently the most widely used aggregator of financial market data."
   ]
  },
  {
   "cell_type": "markdown",
   "metadata": {},
   "source": [
    "As a first step, you will need to register a free account on the http://www.quandl.com website."
   ]
  },
  {
   "cell_type": "markdown",
   "metadata": {},
   "source": [
    "After you register, you will be provided with a unique API key, that you should store:"
   ]
  },
  {
   "cell_type": "code",
   "execution_count": 1,
   "metadata": {},
   "outputs": [],
   "source": [
    "# Store the API key as a string - according to PEP8, constants are always named in all upper case\n",
    "API_KEY = 'Zy65xszazvgwLnccnsXF'"
   ]
  },
  {
   "cell_type": "markdown",
   "metadata": {},
   "source": [
    "Qaundl has a large number of data sources, but, unfortunately, most of them require a Premium subscription. Still, there are also a good number of free datasets."
   ]
  },
  {
   "cell_type": "markdown",
   "metadata": {},
   "source": [
    "For this mini project, we will focus on equities data from the Frankfurt Stock Exhange (FSE), which is available for free. We'll try and analyze the stock prices of a company called Carl Zeiss Meditec, which manufactures tools for eye examinations, as well as medical lasers for laser eye surgery: https://www.zeiss.com/meditec/int/home.html. The company is listed under the stock ticker AFX_X."
   ]
  },
  {
   "cell_type": "markdown",
   "metadata": {},
   "source": [
    "You can find the detailed Quandl API instructions here: https://docs.quandl.com/docs/time-series"
   ]
  },
  {
   "cell_type": "markdown",
   "metadata": {},
   "source": [
    "While there is a dedicated Python package for connecting to the Quandl API, we would prefer that you use the *requests* package, which can be easily downloaded using *pip* or *conda*. You can find the documentation for the package here: http://docs.python-requests.org/en/master/ "
   ]
  },
  {
   "cell_type": "markdown",
   "metadata": {},
   "source": [
    "Finally, apart from the *requests* package, you are encouraged to not use any third party Python packages, such as *pandas*, and instead focus on what's available in the Python Standard Library (the *collections* module might come in handy: https://pymotw.com/3/collections/ ).\n",
    "Also, since you won't have access to DataFrames, you are encouraged to us Python's native data structures - preferably dictionaries, though some questions can also be answered using lists.\n",
    "You can read more on these data structures here: https://docs.python.org/3/tutorial/datastructures.html"
   ]
  },
  {
   "cell_type": "markdown",
   "metadata": {},
   "source": [
    "Keep in mind that the JSON responses you will be getting from the API map almost one-to-one to Python's dictionaries. Unfortunately, they can be very nested, so make sure you read up on indexing dictionaries in the documentation provided above."
   ]
  },
  {
   "cell_type": "code",
   "execution_count": 2,
   "metadata": {},
   "outputs": [],
   "source": [
    "# First, import the relevant modules\n",
    "import requests\n"
   ]
  },
  {
   "cell_type": "code",
   "execution_count": 3,
   "metadata": {},
   "outputs": [
    {
     "data": {
      "text/plain": [
       "dict_keys(['limit', 'transform', 'column_index', 'column_names', 'start_date', 'end_date', 'frequency', 'data', 'collapse', 'order'])"
      ]
     },
     "execution_count": 3,
     "metadata": {},
     "output_type": "execute_result"
    }
   ],
   "source": [
    "# Now, call the Quandl API and pull out a small sample of the data (only one day) to get a glimpse\n",
    "# into the JSON structure that will be returned\n",
    "url = 'https://www.quandl.com/api/v3/datasets/FSE/AFX_X/data.json?api_key=' + API_KEY\n",
    "res = requests.get(url)\n",
    "json_res = res.json()\n",
    "json_res['dataset_data'].keys()"
   ]
  },
  {
   "cell_type": "code",
   "execution_count": 4,
   "metadata": {},
   "outputs": [
    {
     "data": {
      "text/plain": [
       "['Date',\n",
       " 'Open',\n",
       " 'High',\n",
       " 'Low',\n",
       " 'Close',\n",
       " 'Change',\n",
       " 'Traded Volume',\n",
       " 'Turnover',\n",
       " 'Last Price of the Day',\n",
       " 'Daily Traded Units',\n",
       " 'Daily Turnover']"
      ]
     },
     "execution_count": 4,
     "metadata": {},
     "output_type": "execute_result"
    }
   ],
   "source": [
    "# Inspect the JSON structure of the object you created, and take note of how nested it is,\n",
    "# as well as the overall structure\n",
    "columns = json_res['dataset_data']['column_names']\n",
    "data = json_res['dataset_data']['data']\n",
    "columns"
   ]
  },
  {
   "cell_type": "code",
   "execution_count": 5,
   "metadata": {},
   "outputs": [
    {
     "data": {
      "text/plain": [
       "['2020-11-05',\n",
       " 114.7,\n",
       " 116.2,\n",
       " 114.7,\n",
       " 115.4,\n",
       " None,\n",
       " 382.0,\n",
       " 44272.4,\n",
       " None,\n",
       " None,\n",
       " None]"
      ]
     },
     "execution_count": 5,
     "metadata": {},
     "output_type": "execute_result"
    }
   ],
   "source": [
    "# data is a list of lists containing the date and stock features for that day\n",
    "data[1]"
   ]
  },
  {
   "cell_type": "markdown",
   "metadata": {},
   "source": [
    "These are your tasks for this mini project:\n",
    "\n",
    "1. Collect data from the Franfurt Stock Exchange, for the ticker AFX_X, for the whole year 2017 (keep in mind that the date format is YYYY-MM-DD).\n",
    "2. Convert the returned JSON object into a Python dictionary.\n",
    "3. Calculate what the highest and lowest opening prices were for the stock in this period.\n",
    "4. What was the largest change in any one day (based on High and Low price)?\n",
    "5. What was the largest change between any two days (based on Closing Price)?\n",
    "6. What was the average daily trading volume during this year?\n",
    "7. (Optional) What was the median trading volume during this year. (Note: you may need to implement your own function for calculating the median.)"
   ]
  },
  {
   "cell_type": "code",
   "execution_count": 6,
   "metadata": {},
   "outputs": [
    {
     "data": {
      "text/plain": [
       "['2020-11-06',\n",
       " '2020-11-05',\n",
       " '2020-11-04',\n",
       " '2020-11-03',\n",
       " '2020-11-02',\n",
       " '2020-10-30',\n",
       " '2020-10-29',\n",
       " '2020-10-28',\n",
       " '2020-10-27',\n",
       " '2020-10-26']"
      ]
     },
     "execution_count": 6,
     "metadata": {},
     "output_type": "execute_result"
    }
   ],
   "source": [
    "# using data list to create keys and values for a new dict\n",
    "keys = []\n",
    "values = []\n",
    "for k in data:\n",
    "    keys.append(k.pop(0))\n",
    "    values.append(k)\n",
    "keys[:10]\n"
   ]
  },
  {
   "cell_type": "code",
   "execution_count": 7,
   "metadata": {},
   "outputs": [
    {
     "data": {
      "text/plain": [
       "[[115.2, 115.8, 114.8, 115.1, None, 190.0, 21831.0, None, None, None],\n",
       " [114.7, 116.2, 114.7, 115.4, None, 382.0, 44272.4, None, None, None],\n",
       " [109.8, 113.8, 109.8, 113.8, None, 69.0, 7804.7, None, None, None],\n",
       " [108.4, 110.0, 108.4, 110.0, None, 176.0, 19259.0, None, None, None],\n",
       " [111.3, 111.6, 108.1, 108.1, None, 362.0, 39844.5, None, None, None],\n",
       " [107.2, 112.9, 107.2, 110.7, None, 99.0, 11001.5, None, None, None],\n",
       " [112.1, 113.0, 106.7, 109.5, None, 395.0, 43369.2, None, None, None],\n",
       " [113.7, 113.7, 106.1, 111.8, None, 861.0, 94248.9, None, None, None],\n",
       " [115.6, 115.8, 114.9, 114.9, None, 360.0, 41598.0, None, None, None],\n",
       " [117.5, 117.5, 113.4, 113.7, None, 694.0, 80177.1, None, None, None]]"
      ]
     },
     "execution_count": 7,
     "metadata": {},
     "output_type": "execute_result"
    }
   ],
   "source": [
    "values[:10]\n"
   ]
  },
  {
   "cell_type": "code",
   "execution_count": 17,
   "metadata": {},
   "outputs": [
    {
     "data": {
      "text/plain": [
       "[{'Open': 115.2,\n",
       "  'High': 115.8,\n",
       "  'Low': 114.8,\n",
       "  'Close': 115.1,\n",
       "  'Change': None,\n",
       "  'Traded Volume': 190.0,\n",
       "  'Turnover': 21831.0,\n",
       "  'Last Price of the Day': None,\n",
       "  'Daily Traded Units': None,\n",
       "  'Daily Turnover': None}]"
      ]
     },
     "execution_count": 17,
     "metadata": {},
     "output_type": "execute_result"
    }
   ],
   "source": [
    "# using columns names to transform the values list of lists to a list of dictionaries, for each value attaching the name\n",
    "values_dict = []\n",
    "for v in values:\n",
    "    intermed_dict = {}\n",
    "    for i in range(10):\n",
    "        key = columns[i+1]\n",
    "        intermed_dict[key] = v[i]\n",
    "    values_dict.append(intermed_dict)\n",
    "values_dict[:1]\n",
    "    "
   ]
  },
  {
   "cell_type": "code",
   "execution_count": 19,
   "metadata": {},
   "outputs": [
    {
     "name": "stdout",
     "output_type": "stream",
     "text": [
      "{'Open': 115.2, 'High': 115.8, 'Low': 114.8, 'Close': 115.1, 'Change': None, 'Traded Volume': 190.0, 'Turnover': 21831.0, 'Last Price of the Day': None, 'Daily Traded Units': None, 'Daily Turnover': None}\n"
     ]
    }
   ],
   "source": [
    "# using zip to create a dictionary with keys the date and values a list on prices\n",
    "all_data = dict(zip(keys, values_dict))\n",
    "print(all_data['2020-11-06'])"
   ]
  },
  {
   "cell_type": "code",
   "execution_count": 20,
   "metadata": {},
   "outputs": [
    {
     "data": {
      "text/plain": [
       "dict_keys(['2017-12-29', '2017-12-28', '2017-12-27', '2017-12-22', '2017-12-21', '2017-12-20', '2017-12-19', '2017-12-18', '2017-12-15', '2017-12-14', '2017-12-13', '2017-12-12', '2017-12-11', '2017-12-08', '2017-12-07', '2017-12-06', '2017-12-05', '2017-12-04', '2017-12-01', '2017-11-30', '2017-11-29', '2017-11-28', '2017-11-27', '2017-11-24', '2017-11-23', '2017-11-22', '2017-11-21', '2017-11-20', '2017-11-17', '2017-11-16', '2017-11-15', '2017-11-14', '2017-11-13', '2017-11-10', '2017-11-09', '2017-11-08', '2017-11-07', '2017-11-06', '2017-11-03', '2017-11-02', '2017-11-01', '2017-10-30', '2017-10-27', '2017-10-26', '2017-10-25', '2017-10-24', '2017-10-23', '2017-10-20', '2017-10-19', '2017-10-18', '2017-10-17', '2017-10-16', '2017-10-13', '2017-10-12', '2017-10-11', '2017-10-10', '2017-10-09', '2017-10-06', '2017-10-05', '2017-10-04', '2017-10-02', '2017-09-29', '2017-09-28', '2017-09-27', '2017-09-26', '2017-09-25', '2017-09-22', '2017-09-21', '2017-09-20', '2017-09-19', '2017-09-18', '2017-09-15', '2017-09-14', '2017-09-13', '2017-09-12', '2017-09-11', '2017-09-08', '2017-09-07', '2017-09-06', '2017-09-05', '2017-09-04', '2017-09-01', '2017-08-31', '2017-08-30', '2017-08-29', '2017-08-28', '2017-08-25', '2017-08-24', '2017-08-23', '2017-08-22', '2017-08-21', '2017-08-18', '2017-08-17', '2017-08-16', '2017-08-15', '2017-08-14', '2017-08-11', '2017-08-10', '2017-08-09', '2017-08-08', '2017-08-07', '2017-08-04', '2017-08-03', '2017-08-02', '2017-08-01', '2017-07-31', '2017-07-28', '2017-07-27', '2017-07-26', '2017-07-25', '2017-07-24', '2017-07-21', '2017-07-20', '2017-07-19', '2017-07-18', '2017-07-17', '2017-07-14', '2017-07-13', '2017-07-12', '2017-07-11', '2017-07-10', '2017-07-07', '2017-07-06', '2017-07-05', '2017-07-04', '2017-07-03', '2017-06-30', '2017-06-29', '2017-06-28', '2017-06-27', '2017-06-26', '2017-06-23', '2017-06-22', '2017-06-21', '2017-06-20', '2017-06-19', '2017-06-16', '2017-06-15', '2017-06-14', '2017-06-13', '2017-06-12', '2017-06-09', '2017-06-08', '2017-06-07', '2017-06-06', '2017-06-02', '2017-06-01', '2017-05-31', '2017-05-30', '2017-05-29', '2017-05-26', '2017-05-25', '2017-05-24', '2017-05-23', '2017-05-22', '2017-05-19', '2017-05-18', '2017-05-17', '2017-05-16', '2017-05-15', '2017-05-12', '2017-05-11', '2017-05-10', '2017-05-09', '2017-05-08', '2017-05-05', '2017-05-04', '2017-05-03', '2017-05-02', '2017-05-01', '2017-04-28', '2017-04-27', '2017-04-26', '2017-04-25', '2017-04-24', '2017-04-21', '2017-04-20', '2017-04-19', '2017-04-18', '2017-04-17', '2017-04-14', '2017-04-13', '2017-04-12', '2017-04-11', '2017-04-10', '2017-04-07', '2017-04-06', '2017-04-05', '2017-04-04', '2017-04-03', '2017-03-31', '2017-03-30', '2017-03-29', '2017-03-28', '2017-03-27', '2017-03-24', '2017-03-23', '2017-03-22', '2017-03-21', '2017-03-20', '2017-03-17', '2017-03-16', '2017-03-15', '2017-03-14', '2017-03-13', '2017-03-10', '2017-03-09', '2017-03-08', '2017-03-07', '2017-03-06', '2017-03-03', '2017-03-02', '2017-03-01', '2017-02-28', '2017-02-27', '2017-02-24', '2017-02-23', '2017-02-22', '2017-02-21', '2017-02-20', '2017-02-17', '2017-02-16', '2017-02-15', '2017-02-14', '2017-02-13', '2017-02-10', '2017-02-09', '2017-02-08', '2017-02-07', '2017-02-06', '2017-02-03', '2017-02-02', '2017-02-01', '2017-01-31', '2017-01-30', '2017-01-27', '2017-01-26', '2017-01-25', '2017-01-24', '2017-01-23', '2017-01-20', '2017-01-19', '2017-01-18', '2017-01-17', '2017-01-16', '2017-01-13', '2017-01-12', '2017-01-11', '2017-01-10', '2017-01-09', '2017-01-06', '2017-01-05', '2017-01-04', '2017-01-03', '2017-01-02'])"
      ]
     },
     "execution_count": 20,
     "metadata": {},
     "output_type": "execute_result"
    }
   ],
   "source": [
    "# creating a dictionary for 2017 data\n",
    "data_2017 = {}\n",
    "for k, v in all_data.items():\n",
    "    if '2016-12-31' < k < '2018-01-01':\n",
    "        data_2017[k] = v\n",
    "data_2017.keys()\n"
   ]
  },
  {
   "cell_type": "code",
   "execution_count": 11,
   "metadata": {},
   "outputs": [
    {
     "name": "stdout",
     "output_type": "stream",
     "text": [
      "Max opening price: 53.11 and min opening price: 34.0\n"
     ]
    }
   ],
   "source": [
    "# 3. Calculate what the highest and lowest opening prices were for the stock in this period.\n",
    "max_opening_price = data_2017['2017-01-02']['Open']\n",
    "min_opening_price = data_2017['2017-01-02']['Open']\n",
    "for k, v in data_2017.items():\n",
    "    if type(v['Open']) is float:\n",
    "        if v['Open'] > max_opening_price:\n",
    "            max_opening_price = v['Open']\n",
    "        if v['Open'] < min_opening_price:\n",
    "            min_opening_price = v['Open']\n",
    "print('Max opening price:', max_opening_price, 'and min opening price:', min_opening_price)"
   ]
  },
  {
   "cell_type": "code",
   "execution_count": 12,
   "metadata": {},
   "outputs": [
    {
     "name": "stdout",
     "output_type": "stream",
     "text": [
      "Largest change in any one day: 2.8100000000000023 recorded on 2017-05-11\n"
     ]
    }
   ],
   "source": [
    "# 4. What was the largest change in any one day (based on High and Low price)?\n",
    "largest_price_change = data_2017['2017-01-02']['High'] - data_2017['2017-01-02']['Low']\n",
    "day = '2017-01-02'\n",
    "for k, v in data_2017.items():\n",
    "    if (type(v['High']) is float) and (type(v['Low']) is float):\n",
    "        if (v['High'] - v['Low']) > largest_price_change:\n",
    "            largest_price_change = (v['High'] - v['Low'])\n",
    "            day = k\n",
    "print('Largest change in any one day:', largest_price_change, 'recorded on', day)"
   ]
  },
  {
   "cell_type": "code",
   "execution_count": 13,
   "metadata": {},
   "outputs": [
    {
     "name": "stdout",
     "output_type": "stream",
     "text": [
      "Largest change between any two days(based on closing Price) is: 19.03\n"
     ]
    }
   ],
   "source": [
    "# 5. What was the largest change between any two days (based on Closing Price)?\n",
    "max_closing_price = data_2017['2017-01-02']['Close']\n",
    "min_closing_price = data_2017['2017-01-02']['Close']\n",
    "for k, v in data_2017.items():\n",
    "    if type(v['Close']) is float:\n",
    "        if v['Close'] > max_closing_price:\n",
    "            max_closing_price = v['Close']\n",
    "        if v['Close'] < min_closing_price:\n",
    "            min_closing_price = v['Close']\n",
    "print('Largest change between any two days(based on closing Price) is:', max_closing_price - min_closing_price)"
   ]
  },
  {
   "cell_type": "code",
   "execution_count": 14,
   "metadata": {},
   "outputs": [
    {
     "name": "stdout",
     "output_type": "stream",
     "text": [
      "Average daily Trading: 89124.33725490196\n"
     ]
    }
   ],
   "source": [
    "# 6. What was the average daily trading volume during this year?\n",
    "days = 0\n",
    "total_vol = 0\n",
    "for k, v in data_2017.items():\n",
    "    days +=1\n",
    "    total_vol += v['Traded Volume']\n",
    "trading_avg = total_vol/days\n",
    "print('Average daily Trading:', trading_avg)"
   ]
  },
  {
   "cell_type": "code",
   "execution_count": 15,
   "metadata": {},
   "outputs": [
    {
     "data": {
      "text/plain": [
       "255"
      ]
     },
     "execution_count": 15,
     "metadata": {},
     "output_type": "execute_result"
    }
   ],
   "source": [
    "# We have a odd number of days - 255, each with a Traded Volume. So the median will be the middle value,\n",
    "# and not the average between 2 median values\n",
    "days"
   ]
  },
  {
   "cell_type": "code",
   "execution_count": 16,
   "metadata": {},
   "outputs": [
    {
     "name": "stdout",
     "output_type": "stream",
     "text": [
      "Median values is: 76286.0\n"
     ]
    }
   ],
   "source": [
    "# 7. (Optional) What was the median trading volume during this year.\n",
    "# (Note: you may need to implement your own function for calculating the median.)\n",
    "traded_list = []\n",
    "for k, v in data_2017.items():\n",
    "    traded_list.append(v['Traded Volume'])\n",
    "traded_list_sort = sorted(traded_list)\n",
    "median = traded_list_sort[127]\n",
    "print('Median values is:', median)"
   ]
  },
  {
   "cell_type": "code",
   "execution_count": null,
   "metadata": {},
   "outputs": [],
   "source": []
  },
  {
   "cell_type": "code",
   "execution_count": null,
   "metadata": {},
   "outputs": [],
   "source": []
  },
  {
   "cell_type": "code",
   "execution_count": null,
   "metadata": {},
   "outputs": [],
   "source": []
  }
 ],
 "metadata": {
  "kernelspec": {
   "display_name": "Python 3",
   "language": "python",
   "name": "python3"
  },
  "language_info": {
   "codemirror_mode": {
    "name": "ipython",
    "version": 3
   },
   "file_extension": ".py",
   "mimetype": "text/x-python",
   "name": "python",
   "nbconvert_exporter": "python",
   "pygments_lexer": "ipython3",
   "version": "3.8.3"
  }
 },
 "nbformat": 4,
 "nbformat_minor": 2
}
